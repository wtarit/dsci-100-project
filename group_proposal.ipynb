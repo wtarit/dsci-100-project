{
 "cells": [
  {
   "cell_type": "markdown",
   "id": "58b0663b-9e02-4085-9341-2afe3cc9160c",
   "metadata": {},
   "source": [
    "Group Proposal"
   ]
  },
  {
   "cell_type": "code",
   "execution_count": null,
   "id": "4dff2349-96e3-4e80-8cf0-ee6ab24a8903",
   "metadata": {},
   "outputs": [],
   "source": []
  }
 ],
 "metadata": {
  "kernelspec": {
   "display_name": "R",
   "language": "R",
   "name": "ir"
  },
  "language_info": {
   "codemirror_mode": "r",
   "file_extension": ".r",
   "mimetype": "text/x-r-source",
   "name": "R",
   "pygments_lexer": "r",
   "version": "4.3.1"
  }
 },
 "nbformat": 4,
 "nbformat_minor": 5
}
